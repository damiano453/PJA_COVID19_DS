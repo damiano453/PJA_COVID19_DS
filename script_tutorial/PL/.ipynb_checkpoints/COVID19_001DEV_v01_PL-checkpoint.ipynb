{
 "cells": [
  {
   "cell_type": "markdown",
   "metadata": {},
   "source": [
    "Analiza danych w R\n",
    "====================\n",
    "---\n",
    "Część 1 - Przygotowanie środowiska\n",
    "--------------------\n",
    "Istotnym elementem w  programowaniu jest przygotowanie środowiska, w którym można przeprowadzać analizę. W przypadku R można wyróżnić następujące możliwości:\n",
    "\n",
    "1. Lokalne środowisko, ograniczone przez posiadane zasoby\n",
    "    1. z użyciem edytorów np.: [RStudio](https://rstudio.com/#RStudio)\n",
    "    2. z użyciem edytorów pozwalających na łatwe wydzialanie fragmentów kodu np: [Jupyter](https://jupyter.org/)\n",
    "2. Rozwiązania chmurowe z gotowymi rozwiązaniami ułatwiającymi pracę\n",
    "    1. Google [Colaboratory](https://colab.research.google.com/notebooks/intro.ipynb)\n",
    "    2. Amazon [SageMaker](https://aws.amazon.com/sagemaker/)\n",
    "    3. Microsoft [Azure](https://azure.microsoft.com/pl-pl/)\n",
    "3. Rozwiązania chmurowe z możliwością dowolnej konfiguracji\n",
    "    1. Amazon [EC2](https://aws.amazon.com/ec2/)\n",
    "\n",
    "Wyżej wymienionych rozwiązań istnieje o wiele więcej, to są tylko przykładowe.<br><br>\n",
    "Na potrzeby tutoriala wykorzystano Jupyter [Jupyter](https://jupyter.org/), ze środowiskiem [Anaconda](https://www.anaconda.com/), które pozwala na łatwe zarządzanie narzędziami. Skrypty można uruchamiać w dowolnym środowisku, na potrzeby tutoriala opisano jedno pyrzkładowe, korzystające z lokalnych zasobów.\n",
    "\n",
    "# 1. Instalacja i przygotowanie środowiska\n",
    "## 1.1 Niezbędne pliki instalacyjne\n",
    "Pierwszym etapem jest ściągniecie środowiska [Anaconda](https://www.anaconda.com/), patrz: sekcja `Products`. Do wyboru jest kilka możliwości, w celach niekomercyjnych można wybrać darmową wersję: `Individual Edition`.\n",
    "\n",
    "\n",
    "![cardinal](../_pictures/001_download.png)\n",
    "<br><br>\n"
   ]
  },
  {
   "cell_type": "markdown",
   "metadata": {},
   "source": [
    "## 1.2 Instalacja środowiska\n",
    "Po pobraniu należy zainstalować środowisko na lokalnej maszynie. W tym celu należy uruchomić ściągnięty plik i przejść proces instalacji, po zainstalowaniu można procować z poziomu konsoli, bądź graficznej nakładki, na potrzeby tutoriala wykorzystano graficzną nakładkę. W przypadku chęci uruchomienia edytora Jupyter na innej partycji niż należy posługiwać się konsolą.\n",
    "<br>\n",
    "Pierwszym krokiem jest stworzenie środowiska wirtualnego dla języka R. W przykładzie użyto nazwy `renv`.\n",
    "![cardinal](../_pictures/002_renv_install.png)"
   ]
  },
  {
   "cell_type": "markdown",
   "metadata": {},
   "source": [
    "## 1.3 Uruchomienie środowiska\n",
    "Pierwszym krokiem jest aktywacja wcześniej utworzonego wirtualnego środowiska dla języka R. Jako domyślne traktowane jest to przeznaczone do pracy z językiem Python, z dopiskiem `root`. Krok ten wykonuje się w sekcji `Environment`.\n",
    "![cardinal](../_pictures/003_renv_activate.png)\n",
    "<br>\n",
    "Kolejno należy uruchomić edytor Jupyter, w którym możemy uruchamiać wcześniej pobrane tutoriale dla języka Jupyter. Pliki znajdują się w sekcji `Pobierz`, gdzie znajduje się link do repozytoriów [GitHub](https://github.com/).\n",
    "\n",
    "![cardinal](../_pictures/004_jupyter_launch.png)\n",
    "\n",
    "<br>\n",
    "Po sklonowaniu repozytorium, bądź pobraniu tylko interesującej nas zawartości (skrypty i dodatkowe pliki wyróżnione w każdym skrypcie w rozdziale o deklarowanych stałych), można uruchomić interesującą nas część.\n",
    "\n",
    "![cardinal](../_pictures/005_uruchomienie_skryptu.png)\n",
    "<br><br>\n",
    "\n"
   ]
  },
  {
   "cell_type": "markdown",
   "metadata": {},
   "source": [
    "## 1.4 Uruchomienie skryptu\n",
    "Jako przykładowy skrypt wybrano ten o tytule `COVID19_001ETL_v23_PL.ipynb`. Warto w tym miejscu zaznaczyć, że rozszerzenie `*ipybn` odnosi się do plików tworzonych z myślą o edytorze Jupyter.\n",
    "<br>\n",
    "W celu uruchomienia danego fragmentu można się posłużyć skrótem klawiszowym `ctrl+Enter`, bądź skorzystać z paska narzędzi `Kernel -> Run Cell`, można też uruchomić całość: `Kernel -> Run All`.\n",
    "\n",
    "![cardinal](../_pictures/006_run.png)\n",
    "\n",
    "<br>"
   ]
  }
 ],
 "metadata": {
  "celltoolbar": "Raw Cell Format",
  "kernelspec": {
   "display_name": "R",
   "language": "R",
   "name": "ir"
  },
  "language_info": {
   "codemirror_mode": "r",
   "file_extension": ".r",
   "mimetype": "text/x-r-source",
   "name": "R",
   "pygments_lexer": "r",
   "version": "3.6.1"
  }
 },
 "nbformat": 4,
 "nbformat_minor": 4
}

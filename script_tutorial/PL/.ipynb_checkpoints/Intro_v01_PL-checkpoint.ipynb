{
 "cells": [
  {
   "cell_type": "markdown",
   "metadata": {},
   "source": [
    "Analiza danych w R\n",
    "====================\n",
    "---\n",
    "Część 1 - Przygotowanie środowiska\n",
    "--------------------\n",
    "Istotnym elementem w  programowaniu jest przygotowanie środowsika, w którym można przeprowadzać analizę. W przypadku R można wyróżnić następujące możliwości:\n",
    "\n",
    "1. Lokalne środowisko, ograniczone przez posiadane zasoby\n",
    "    1. z użyciem edytorów np.: [RStudio](https://rstudio.com/#RStudio)\n",
    "    2. z użyciem edytorów pozwalających na łatwe wydzialanie fragmentów kodu np: [Jupyter](https://jupyter.org/)\n",
    "2. Rozwiązania chmurowe z gotowymi rozwiązaniami ułatwiającymi pracę\n",
    "    1. Google [Colaboratory](https://colab.research.google.com/notebooks/intro.ipynb)\n",
    "    2. Amazon [SageMaker](https://aws.amazon.com/sagemaker/)\n",
    "    3. Microsoft [Azure](https://azure.microsoft.com/pl-pl/)\n",
    "3. Rozwiązania chmurowe z możliwością dowolnej konfiguracji\n",
    "    1. Amazon [EC2](https://aws.amazon.com/ec2/)\n",
    "\n",
    "Wyżej wymienionych rozwiązań istnieje o wiele więcej, to są tylko przykładowe.<br><br>\n",
    "Na potrzeby tutoriala wykorzystano Jupyter [Jupyter](https://jupyter.org/), ze środowiskiem [Anaconda](https://anaconda.org/), które pozwala na łatwe zarządzanie narzędziami. Skrypty można uruchamiać w dowolnym środowisku, na potrzeby tutoriala opisano jedno pyrzkładowe, korzystające z lokalnych zasobów.\n",
    "\n",
    "# 1. Instalacja i przygotowanie środowiska\n",
    "## 1.1 Niezbędne pliki instalacyjne\n",
    "Pierwszym etapem jest ściągniecie środowiska [Anaconda](https://anaconda.org/)\n",
    "\n",
    "\n",
    "      <center><img src=\"../homePage/20/_pictures/001_renv.png\"></center>\n",
    "      <center>This is an image</center>\n",
    "\n",
    "![cardinal](001_renv.png)\n",
    "\n",
    "Przed rozpoczęciem niezbędne jest środowisko programistycznego. Dedykowanym rozwiązaniem dla języka R jest skorzystanie z [RStudio](https://rstudio.com/#RStudio) wraz z systemem Windows. Rstudio które pozwala na posiadanie lokalnego środowiska umożliwiającego uruchomienia skrytów bez problemów z instalacją bibliotek, czy ich zależnościami. Przy zastosowaniu samego R Studio wystarczy kopiować komendy z pól z kodem do środowiska.\n",
    "\n",
    "Dodatkowo na potrzeby kursu skrypty przetorzono w edytorze [Jupyter](https://jupyter.org/), który osadzono w chmurze AWS Sage Maker, na którym może być używany za darmo przez rok w ramach [AWS Free Tier](https://aws.amazon.com/free/?all-free-tier.sort-by=item.additionalFields.SortRank&all-free-tier.sort-order=asc). \n",
    "\n",
    "Zastępstwem dal rozwiązania chmurowego może być wykorzysteanie środowiska [Anaconda](https://anaconda.org/), które integreje środowisko R z różnymi edytoram np. Jupyter, RStudio, Qt, czy Spyder. \n",
    "\n",
    "Więcej szczegółów w części 1: `Środowisko programistyczne`.\n",
    "\n",
    "# 1. Instalacja i przygotowanie środowiska\n",
    "## 1.1 Przygotowanie środowiska\n",
    "Scripts written in this course were coded to allow working in production environment. They are not fully optimised, but there are some steps, which aloows to deploy them in test environment.\n",
    "\n",
    "First step is to free memory and clean variables which could be used in previous iterations.\n",
    "Skrypty były pisane z myślą o ich implementacji w środowisku produkcyjny. Skrypty nie zostały w pełni zoptymalizowane, ale zostało użytych kilka dobrych praktyk, co z pewnością umożliwi uruchomieni w środowisku testowym.\n",
    "\n",
    "Pierwszym krokiem jest zwolnienie pamięci oraz usunięcie ewentualnych zmiennych z poprzednich uruchomień."
   ]
  }
 ],
 "metadata": {
  "celltoolbar": "Raw Cell Format",
  "kernelspec": {
   "display_name": "R",
   "language": "R",
   "name": "ir"
  },
  "language_info": {
   "codemirror_mode": "r",
   "file_extension": ".r",
   "mimetype": "text/x-r-source",
   "name": "R",
   "pygments_lexer": "r",
   "version": "3.6.1"
  }
 },
 "nbformat": 4,
 "nbformat_minor": 4
}

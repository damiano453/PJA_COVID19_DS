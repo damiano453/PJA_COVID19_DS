{
 "cells": [
  {
   "cell_type": "markdown",
   "metadata": {},
   "source": [
    "Data analysis in R\n",
    "====================\n",
    "---\n",
    "PART 1 - Preparation of environment\n",
    "--------------------\n",
    "It is necessary to prepare an environment, which allows to process data analysis. In case of programming in R we can find the following ways:\n",
    "\n",
    "1. Local environment, which is limited by resources of a computer\n",
    "    1. with editors f.e.: [RStudio](https://rstudio.com/#RStudio)\n",
    "    2. with editors allowing for easy partial code running f.e.: [Jupyter](https://jupyter.org/)\n",
    "2. Cloud computing with ready to go environments\n",
    "    1. Google [Colaboratory](https://colab.research.google.com/notebooks/intro.ipynb)\n",
    "    2. Amazon [SageMaker](https://aws.amazon.com/sagemaker/)\n",
    "    3. Microsoft [Azure](https://azure.microsoft.com/pl-pl/)\n",
    "3. Cloud computing with user configuration f.e.:\n",
    "    1. Amazon [EC2](https://aws.amazon.com/ec2/)\n",
    "\n",
    "There are only a few examples of environments used in analytics.<br><br>In this tutorial Jupyter [Jupyter](https://jupyter.org/) with [Anaconda](https://www.anaconda.com/)environment is used. Anaconda allows for the easy creation of virtual environments for R and Python. Scripts can be started in any compatible with the R environment. This tutorial describes the installation of the local environment with Anaconda.\n",
    "<br><br>\n",
    "# 1. Installation and environment preparation\n",
    "## 1.1 Necessary installation files\n",
    "First of all it is necessary to download [Anaconda](https://www.anaconda.com/), section `Products` in the website. Many possibilities will appear, but for non-commercial use free `Individual Edition` can be chosen. \n",
    "\n",
    "\n",
    "![cardinal](../_pictures/001_download.png)\n",
    "<br><br>\n"
   ]
  },
  {
   "cell_type": "markdown",
   "metadata": {},
   "source": [
    "## 1.2 Installation of environment\n",
    "When all files are downloaded, it is necessary to install them on the local computer. To do this files need to be started and installed. There are two ways of working with anaconda: using console or graphical interface. In this tutorial graphical interface is described, which limits possibilities. When you want to use other partitions then default, it is necessary to use console.<br>\n",
    "First step is to create virtual environment for the R language. In this case, `renv` name is used.\n",
    "\n",
    "![cardinal](../_pictures/002_renv_install.png)"
   ]
  },
  {
   "cell_type": "markdown",
   "metadata": {},
   "source": [
    "## 1.3 Run environment \n",
    "The first step is to activate virtual environment, which was previously installed. It is necessary to do this with every start, by default Python environment is started (name with `root`). This step can be done in `Environment` section.\n",
    "![cardinal](../_pictures/003_renv_activate.png)\n",
    "<br>The next step is to start Jupyter, which allows for starting all downloaded scripts and tutorials. Files can be found in the `Download` section. All files are placed in [GutHub](https://github.com/) repositories.\n",
    "![cardinal](../_pictures/004_jupyter_launch.png)\n",
    "<br>\n",
    "After cloning of the repository or after the manual download of necessary files (all names are in other parts of scripts) tutorial can be started in local machine.\n",
    "\n",
    "![cardinal](../_pictures/005_uruchomienie_skryptu.png)\n",
    "<br><br>\n"
   ]
  },
  {
   "cell_type": "markdown",
   "metadata": {},
   "source": [
    "## 1.4 Scrip runningAs an example the `COVID19_001ETL_v23_PL.ipynb` script is chosen. All files with `*ipybn` are prepared and can be used with Jupyter Notebook.\n",
    "<br>\n",
    "Code can be run partially using the shortcut `ctrl+Enter`, or from the bar using `Kernel -> Run Cell`. Another way is to run all code at once by `Kernel -> Run All`.\n",
    "\n",
    "![cardinal](../_pictures/006_run.png)\n",
    "\n",
    "<br>"
   ]
  }
 ],
 "metadata": {
  "celltoolbar": "Raw Cell Format",
  "kernelspec": {
   "display_name": "R",
   "language": "R",
   "name": "ir"
  },
  "language_info": {
   "codemirror_mode": "r",
   "file_extension": ".r",
   "mimetype": "text/x-r-source",
   "name": "R",
   "pygments_lexer": "r",
   "version": "3.6.1"
  }
 },
 "nbformat": 4,
 "nbformat_minor": 4
}
